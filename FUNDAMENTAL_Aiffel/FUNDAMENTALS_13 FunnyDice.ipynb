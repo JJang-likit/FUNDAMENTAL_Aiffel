{
 "cells": [
  {
   "cell_type": "markdown",
   "id": "1c99d2a3",
   "metadata": {},
   "source": [
    "## n면체 주사위 만들기 - Funny Dice\n",
    "\n",
    "1. 주사위의 기능\n",
    "  - 주사위의 면의 개수 n을 입력할 수 있다.\n",
    "  - 주사위를 던지면 1~n 눈의 수 중에서 랜덤으로 값을 출력한다.\n",
    "  \n",
    "2. 주사위 구현 기획\n",
    "  - 나만의 n면체 주사위 클래스의 이름은 Funny Dice라고 한다.\n",
    "  - 주사위 면의 개수 n을 인스턴스 변수로 선언해 주사위 면의 개수 n을 입력할 수 있게 한다.\n",
    "  - throw 란 메소드로 던져서 1~n 중 하나의 값이 나오게 한다.\n",
    "  - 주사위 값을 특정한 값으로 세팅하기 : setval 이란 기능을 통해 특정 값을 user가 선택할 수 있는 치팅 기능을 넣는다.\n",
    "  - 현재 주사위 값 얻기 : 주사위를 던졌든, 주사위 값을 세팅했던지 주사위 값을 user한테 알려줄 수 있게 getval 이란 기능을 추가한다."
   ]
  },
  {
   "cell_type": "code",
   "execution_count": 1,
   "id": "da07bdf6",
   "metadata": {},
   "outputs": [],
   "source": [
    "# main 함수 만들기\n",
    "\n",
    "# n이라는 변수에 주사위 면의 수를 입력받는다.\n",
    "def main():\n",
    "    n = get_input()\n",
    "    mydice = FunnyDice(n)\n",
    "    mydice.throw()\n",
    "    print(\"행운의 숫자는?{}\".format(mydice.getval()))"
   ]
  },
  {
   "cell_type": "code",
   "execution_count": 5,
   "id": "73ec6572",
   "metadata": {},
   "outputs": [
    {
     "name": "stdout",
     "output_type": "stream",
     "text": [
      "2\n"
     ]
    }
   ],
   "source": [
    "# 생성자 __init__ 구현\n",
    "\n",
    "from random import randrange\n",
    "\n",
    "class FunnyDice:\n",
    "    def __init__(self, n=6):\n",
    "        self.n = int(n) # n의 디폴트 값을 6으로 지정, 인스턴트 객체 만들때 인자를 주지 않으면 자동으로 6면체 주사위로 만듬\n",
    "        self.numbers = list(range(1, n+1)) # 주사위의 눈들로서 1부터 n+1까지의 숫자를 나타냄\n",
    "        self.index = randrange(0, self.n)\n",
    "        self.val = self.numbers[self.index]\n",
    "        \n",
    "# throw and getval 메서드\n",
    "    def throw(self):  \n",
    "        self.index = randrange(0, self.n)  # 주사위를 던졌을 때 랜덤으로 주사위 눈이 나오게 함\n",
    "        self.val = self.numbers[self.index]\n",
    "        \n",
    "    def getval(self):\n",
    "        return self.val\n",
    "    \n",
    "# setval 메서드 - 사용자가 주사위 눈을 세팅할 수 있도록 해주는 메서드\n",
    "    def setval(self, val:int):\n",
    "        if val <= self.n:\n",
    "            self.val = val\n",
    "        else:\n",
    "            msg = \"주사위에 없는 숫자입니다. 주사위는 1~{0}까지 있습니다.\".format(self.n)\n",
    "            raise ValueError(msg)\n",
    "            \n",
    "lucknum = FunnyDice()\n",
    "lucknum.throw()\n",
    "print(lucknum.getval())"
   ]
  },
  {
   "cell_type": "code",
   "execution_count": 9,
   "id": "3dbf1ecd",
   "metadata": {},
   "outputs": [
    {
     "name": "stdout",
     "output_type": "stream",
     "text": [
      "주사위 면의 개수를 입력하세요: 100\n",
      "행운의 숫자는? 86\n"
     ]
    }
   ],
   "source": [
    "# 최종 완성본\n",
    "\n",
    "from random import randrange\n",
    "\n",
    "class FunnyDice:\n",
    "    def __init__(self, n=6):\n",
    "        self.n = int(n) # n의 디폴트 값을 6으로 지정, 인스턴트 객체 만들때 인자를 주지 않으면 자동으로 6면체 주사위로 만듬\n",
    "        self.numbers = list(range(1, n+1)) # 주사위의 눈들로서 1부터 n+1까지의 숫자를 나타냄\n",
    "        self.index = randrange(0, self.n)\n",
    "        self.val = self.numbers[self.index]\n",
    "        \n",
    "# throw and getval 메서드\n",
    "    def throw(self):  \n",
    "        self.index = randrange(0, self.n)  # 주사위를 던졌을 때 랜덤으로 주사위 눈이 나오게 함\n",
    "        self.val = self.numbers[self.index]\n",
    "        \n",
    "    def getval(self):\n",
    "        return self.val\n",
    "    \n",
    "# setval 메서드 - 사용자가 주사위 눈을 세팅할 수 있도록 해주는 메서드\n",
    "    def setval(self, val:int):\n",
    "        if val <= self.n:\n",
    "            self.val = val\n",
    "        else:\n",
    "            msg = \"주사위에 없는 숫자입니다. 주사위는 1~{0}까지 있습니다.\".format(self.n)\n",
    "            raise ValueError(msg)\n",
    "            \n",
    "def get_inputs():\n",
    "        n = int(input(\"주사위 면의 개수를 입력하세요: \"))\n",
    "        return n\n",
    "    \n",
    "def main():\n",
    "        n = get_inputs()\n",
    "        mydice = FunnyDice(n)\n",
    "        mydice.throw()\n",
    "        print(\"행운의 숫자는? {}\".format(mydice.getval()))\n",
    "        \n",
    "if __name__ == '__main__':\n",
    "    main()"
   ]
  }
 ],
 "metadata": {
  "kernelspec": {
   "display_name": "Python 3 (ipykernel)",
   "language": "python",
   "name": "python3"
  },
  "language_info": {
   "codemirror_mode": {
    "name": "ipython",
    "version": 3
   },
   "file_extension": ".py",
   "mimetype": "text/x-python",
   "name": "python",
   "nbconvert_exporter": "python",
   "pygments_lexer": "ipython3",
   "version": "3.9.7"
  }
 },
 "nbformat": 4,
 "nbformat_minor": 5
}
