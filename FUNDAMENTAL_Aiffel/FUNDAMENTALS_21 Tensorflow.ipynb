{
 "cells": [
  {
   "cell_type": "markdown",
   "id": "96112e33",
   "metadata": {},
   "source": [
    "# FUNDAMENTALS_21. Tensorflow"
   ]
  },
  {
   "cell_type": "markdown",
   "id": "5444dc67",
   "metadata": {},
   "source": [
    "  - 우리가 실습에서 많이 사용한 딥러닝 프레임워크는 Tensorflow였다.\n",
    "  - 하지만 좋은 딥러닝 프레임워크는 Tensorflow 말고도 pyTorch라는 프레임워크도 있다.\n",
    "  - Tensorflow와 pyTorch 둘 다 서로 가진 장점들을 흡수하면서 더 좋은 딥러닝 프레임워크로 진화하고 있다."
   ]
  },
  {
   "cell_type": "markdown",
   "id": "3f069273",
   "metadata": {},
   "source": [
    "## Tensorflow2 API 알아보기\n",
    "  - tensorflow에서 딥러닝 모델을 작성하는 방법은 크게 3가지가 존재한다.\n",
    "  - Sequential / Functional / Model subclassing 이렇게 3가지가 존재한다."
   ]
  },
  {
   "cell_type": "markdown",
   "id": "88ea5bac",
   "metadata": {},
   "source": [
    "### Tensorflow2 Sequential Model\n",
    "  - 앞선 자료들에서 공부했던 모델은 대부분 Sequential 모델이었다.\n",
    "  - model = keras.Sequential( )로 선언해주고 모델을 활용하면 손쉽게 딥러닝 모델을 쌓아갈 수 있다.\n",
    "  - 가장 큰 장점은 초보자가 접근하기에 매우 쉽다는 것이다.\n",
    "  - 하지만 모델의 입력과 출력이 여러개인 경우에는 사용하기 어렵다.\n",
    "  - 그래서 Sequential 모델은 반드시 입력 1가지, 출력 1가지를 전제로 하고 사용한다."
   ]
  },
  {
   "cell_type": "code",
   "execution_count": null,
   "id": "603e7a72",
   "metadata": {},
   "outputs": [],
   "source": [
    "# Sequential Model 코드\n",
    "\n",
    "import tensorflow as tf\n",
    "from tensorflow import keras\n",
    "\n",
    "model = keras.Sequential()\n",
    "model.add(__넣고싶은 레이어__)\n",
    "model.add(__넣고싶은 레이어__)\n",
    "model.add(__넣고싶은 레이어__)\n",
    "\n",
    "model.fit(x, y, epochs=10, batch_size=32)"
   ]
  },
  {
   "cell_type": "markdown",
   "id": "393f6131",
   "metadata": {},
   "source": [
    "### Tensorflow2 Functional API\n",
    "  - Functional API를 활용하면 Sequential Model을 활용하는 것보다 더 자유로운 모델링을 진행할 수 있다.\n",
    "  - Functional API는 keras.Model을 사용한다.\n",
    "  - Sequential Model은 keras.Model을 상속받아 확장한 특수 사례인데 Functional API는 더 직관적이라고 생각한다.\n",
    "  - Functional API는 입력과 출력을 규정함으로써 모델 전체를 규정한다. 그래서 input이 될 수 있는 텐서가 여러개일 수 있고 레이어들을 자유롭게 엮어 출력을 규정할 수 있다.\n",
    "  - Sequential Model의 제약점이 1개의 입/출력이었다면 Functional API는 다중 입력/출력을 가지는 모델이다."
   ]
  },
  {
   "cell_type": "code",
   "execution_count": null,
   "id": "d917a592",
   "metadata": {},
   "outputs": [],
   "source": [
    "# Functional API 코드\n",
    "\n",
    "import tensorflow as tf\n",
    "from tensorflow import keras\n",
    "\n",
    "inputs = keras.Input(shape=(__원하는 입력값 모양__))\n",
    "x = keras.layers.__넣고싶은 레이어__(관련 파라미터)(input)\n",
    "x = keras.layers.__넣고싶은 레이어__(관련 파라미터)(x)\n",
    "outputs = keras.layers.__넣고싶은 레이어__(관련 파라미터)(x)\n",
    "\n",
    "model = keras.Model(inputs=inputs, outputs=outputs)\n",
    "model.fit(x,y, epochs=10, batch_size=32)"
   ]
  },
  {
   "cell_type": "markdown",
   "id": "e9781f6b",
   "metadata": {},
   "source": [
    "### Tensorflow2 Subclassing\n",
    "  - subclassing 역시 keras.Model을 상속받은 모델 클래스를 만드는 것이다.\n",
    "  - keras.Model은 __init__ 메서드 안에서 레이어 구성을 정의한다.\n",
    "  - 그리고 call( ) 이라는 메서드 안에서 레이어 간 forward propagation을 구현한다."
   ]
  },
  {
   "cell_type": "code",
   "execution_count": null,
   "id": "949d3a15",
   "metadata": {},
   "outputs": [],
   "source": [
    "# Subclassing 코드\n",
    "\n",
    "import tensorflow as tf\n",
    "from tensorflow import keras\n",
    "\n",
    "class CustomModel(keras.Model):\n",
    "    def __init__(self):\n",
    "        super(CustomModel, self).__init__()\n",
    "        self.__정의하고자 하는 레이어__()\n",
    "        self.__정의하고자 하는 레이어__()\n",
    "        self.__정의하고자 하는 레이어__()\n",
    "    \n",
    "    def call(self, x):\n",
    "        x = self.__정의하고자 하는 레이어__(x)\n",
    "        x = self.__정의하고자 하는 레이어__(x)\n",
    "        x = self.__정의하고자 하는 레이어__(x)\n",
    "        \n",
    "        return x\n",
    "    \n",
    "model = CustomModel()\n",
    "model.fit(x,y, epochs=10, batch_size=32)"
   ]
  },
  {
   "cell_type": "markdown",
   "id": "b8c3ffc7",
   "metadata": {},
   "source": [
    "### Sequential을 활용해서 MNIST 문제 해결"
   ]
  },
  {
   "cell_type": "code",
   "execution_count": 2,
   "id": "92388453",
   "metadata": {},
   "outputs": [
    {
     "name": "stdout",
     "output_type": "stream",
     "text": [
      "60000 10000\n"
     ]
    }
   ],
   "source": [
    "# 라이브러리 및 데이터 구성하기\n",
    "\n",
    "import tensorflow as tf\n",
    "from tensorflow import keras\n",
    "import numpy as np\n",
    "\n",
    "# 데이터 구성부분\n",
    "mnist = keras.datasets.mnist\n",
    "\n",
    "(x_train, y_train), (x_test, y_test) = mnist.load_data()\n",
    "x_train, x_test = x_train / 255.0, x_test / 255.0\n",
    "\n",
    "x_train=x_train[...,np.newaxis]\n",
    "x_test=x_test[...,np.newaxis]\n",
    "\n",
    "print(len(x_train), len(x_test))"
   ]
  },
  {
   "cell_type": "code",
   "execution_count": 5,
   "id": "c4bbd9d6",
   "metadata": {},
   "outputs": [
    {
     "name": "stdout",
     "output_type": "stream",
     "text": [
      "Epoch 1/5\n",
      "1875/1875 [==============================] - 31s 3ms/step - loss: 0.1050 - accuracy: 0.9673\n",
      "Epoch 2/5\n",
      "1875/1875 [==============================] - 7s 3ms/step - loss: 0.0330 - accuracy: 0.9899\n",
      "Epoch 3/5\n",
      "1875/1875 [==============================] - 6s 3ms/step - loss: 0.0192 - accuracy: 0.9938\n",
      "Epoch 4/5\n",
      "1875/1875 [==============================] - 6s 3ms/step - loss: 0.0121 - accuracy: 0.9959\n",
      "Epoch 5/5\n",
      "1875/1875 [==============================] - 6s 3ms/step - loss: 0.0092 - accuracy: 0.9970\n",
      "313/313 - 1s - loss: 0.0494 - accuracy: 0.9865\n"
     ]
    },
    {
     "data": {
      "text/plain": [
       "[0.049376267939805984, 0.9865000247955322]"
      ]
     },
     "execution_count": 5,
     "metadata": {},
     "output_type": "execute_result"
    }
   ],
   "source": [
    "# Sequential Model 구성\n",
    "\n",
    "model = keras.Sequential([\n",
    "    keras.layers.Conv2D(32, 3, activation='relu'),\n",
    "    keras.layers.Conv2D(64, 3, activation='relu'),\n",
    "    keras.layers.Flatten(),\n",
    "    keras.layers.Dense(128, activation='relu'),\n",
    "    keras.layers.Dense(10, activation='softmax')\n",
    "])\n",
    "\n",
    "# 모델 학습 설정\n",
    "\n",
    "model.compile(optimizer='adam',\n",
    "             loss='sparse_categorical_crossentropy',\n",
    "             metrics=['accuracy'])\n",
    "\n",
    "model.fit(x_train, y_train, epochs=5)\n",
    "\n",
    "model.evaluate(x_test, y_test, verbose=2)"
   ]
  },
  {
   "cell_type": "markdown",
   "id": "74fb39a7",
   "metadata": {},
   "source": [
    "### Functional API 활용\n",
    "  - Sequential Model과 큰 차이는 없지만 이번에는 직접 keras.Model을 활용해야 하므로 input 및 output 레이어 구성을 통해 model을 구현해야 한다."
   ]
  },
  {
   "cell_type": "code",
   "execution_count": 6,
   "id": "9606d31b",
   "metadata": {},
   "outputs": [
    {
     "name": "stdout",
     "output_type": "stream",
     "text": [
      "60000 10000\n"
     ]
    }
   ],
   "source": [
    "# 라이브러리 및 데이터 구성하기\n",
    "\n",
    "import tensorflow as tf\n",
    "from tensorflow import keras\n",
    "import numpy as np\n",
    "\n",
    "# 데이터 구성부분\n",
    "mnist = keras.datasets.mnist\n",
    "\n",
    "(x_train, y_train), (x_test, y_test) = mnist.load_data()\n",
    "x_train, x_test = x_train / 255.0, x_test / 255.0\n",
    "\n",
    "x_train=x_train[...,np.newaxis]\n",
    "x_test=x_test[...,np.newaxis]\n",
    "\n",
    "print(len(x_train), len(x_test))"
   ]
  },
  {
   "cell_type": "code",
   "execution_count": 15,
   "id": "039071f2",
   "metadata": {},
   "outputs": [],
   "source": [
    "# Functional API 구성\n",
    "\n",
    "inputs = keras.Input(shape=(28, 28, 1))\n",
    "\n",
    "x = keras.layers.Conv2D(32, 3, activation='relu')(inputs)\n",
    "x = keras.layers.Conv2D(64, 3, activation='relu')(x)\n",
    "x = keras.layers.Flatten()(x)\n",
    "x = keras.layers.Dense(128, activation='relu')(x)\n",
    "predictions = keras.layers.Dense(10, activation='softmax')(x)\n",
    "\n",
    "model = keras.Model(inputs=inputs, outputs=predictions)"
   ]
  },
  {
   "cell_type": "code",
   "execution_count": 16,
   "id": "db84f0eb",
   "metadata": {},
   "outputs": [
    {
     "name": "stdout",
     "output_type": "stream",
     "text": [
      "Epoch 1/5\n",
      "1875/1875 [==============================] - 7s 3ms/step - loss: 0.1047 - accuracy: 0.9684\n",
      "Epoch 2/5\n",
      "1875/1875 [==============================] - 6s 3ms/step - loss: 0.0355 - accuracy: 0.9886\n",
      "Epoch 3/5\n",
      "1875/1875 [==============================] - 6s 3ms/step - loss: 0.0178 - accuracy: 0.9942\n",
      "Epoch 4/5\n",
      "1875/1875 [==============================] - 6s 3ms/step - loss: 0.0135 - accuracy: 0.9953\n",
      "Epoch 5/5\n",
      "1875/1875 [==============================] - 6s 3ms/step - loss: 0.0088 - accuracy: 0.9973\n",
      "313/313 - 1s - loss: 0.0513 - accuracy: 0.9872\n"
     ]
    },
    {
     "data": {
      "text/plain": [
       "[0.051265742629766464, 0.9872000217437744]"
      ]
     },
     "execution_count": 16,
     "metadata": {},
     "output_type": "execute_result"
    }
   ],
   "source": [
    "# 모델 학습 설정\n",
    "\n",
    "model.compile(optimizer='adam',\n",
    "             loss='sparse_categorical_crossentropy',\n",
    "             metrics=['accuracy'])\n",
    "\n",
    "model.fit(x_train, y_train, epochs=5)\n",
    "\n",
    "model.evaluate(x_test, y_test, verbose=2)"
   ]
  },
  {
   "cell_type": "markdown",
   "id": "ae31f59e",
   "metadata": {},
   "source": [
    "### Subclassing 활용\n",
    "  - subclassing 방법은 keras.Model을 상속받은 클래스를 만들어야 한다.\n",
    "  - __init__ 메서드 안에서 레이어를 선언하고 call 메서드 안에서 forward propagation을 구현하는 방식이다.\n",
    "  - Functional 방식과 비교하면 call의 입력이 input이고 call의 리턴값이 output이 된다."
   ]
  },
  {
   "cell_type": "code",
   "execution_count": 17,
   "id": "fd655284",
   "metadata": {},
   "outputs": [
    {
     "name": "stdout",
     "output_type": "stream",
     "text": [
      "60000 10000\n"
     ]
    }
   ],
   "source": [
    "# 라이브러리 및 데이터 구성하기\n",
    "\n",
    "import tensorflow as tf\n",
    "from tensorflow import keras\n",
    "import numpy as np\n",
    "\n",
    "# 데이터 구성부분\n",
    "mnist = keras.datasets.mnist\n",
    "\n",
    "(x_train, y_train), (x_test, y_test) = mnist.load_data()\n",
    "x_train, x_test = x_train / 255.0, x_test / 255.0\n",
    "\n",
    "x_train=x_train[...,np.newaxis]\n",
    "x_test=x_test[...,np.newaxis]\n",
    "\n",
    "print(len(x_train), len(x_test))"
   ]
  },
  {
   "cell_type": "code",
   "execution_count": 18,
   "id": "98c874df",
   "metadata": {},
   "outputs": [],
   "source": [
    "# Subclassing 구현\n",
    "\n",
    "class CustomModel(keras.Model):\n",
    "    def __init__(self):\n",
    "        super().__init__()\n",
    "        self.conv1 = keras.layers.Conv2D(32, 3, activation='relu')\n",
    "        self.conv2 = keras.layers.Conv2D(64, 3, activation='relu')\n",
    "        self.flatten = keras.layers.Flatten()\n",
    "        self.fc1 = keras.layers.Dense(128, activation='relu')\n",
    "        self.fc2 = keras.layers.Dense(10, activation='softmax')\n",
    "    \n",
    "    def call(self, x):\n",
    "        x = self.conv1(x)\n",
    "        x = self.conv2(x)\n",
    "        x = self.flatten(x)\n",
    "        x = self.fc1(x)\n",
    "        x = self.fc2(x)\n",
    "        \n",
    "        return(x)\n",
    "\n",
    "model = CustomModel()"
   ]
  },
  {
   "cell_type": "code",
   "execution_count": 19,
   "id": "4ffa2d10",
   "metadata": {},
   "outputs": [
    {
     "name": "stdout",
     "output_type": "stream",
     "text": [
      "Epoch 1/5\n",
      "1875/1875 [==============================] - 7s 3ms/step - loss: 0.1040 - accuracy: 0.9679\n",
      "Epoch 2/5\n",
      "1875/1875 [==============================] - 6s 3ms/step - loss: 0.0348 - accuracy: 0.9889\n",
      "Epoch 3/5\n",
      "1875/1875 [==============================] - 6s 3ms/step - loss: 0.0184 - accuracy: 0.9945\n",
      "Epoch 4/5\n",
      "1875/1875 [==============================] - 6s 3ms/step - loss: 0.0140 - accuracy: 0.9954\n",
      "Epoch 5/5\n",
      "1875/1875 [==============================] - 6s 3ms/step - loss: 0.0095 - accuracy: 0.9969\n",
      "313/313 - 1s - loss: 0.0365 - accuracy: 0.9903\n"
     ]
    },
    {
     "data": {
      "text/plain": [
       "[0.03650324419140816, 0.9902999997138977]"
      ]
     },
     "execution_count": 19,
     "metadata": {},
     "output_type": "execute_result"
    }
   ],
   "source": [
    "# 모델 학습 설정\n",
    "\n",
    "model.compile(optimizer='adam',\n",
    "             loss='sparse_categorical_crossentropy',\n",
    "             metrics=['accuracy'])\n",
    "\n",
    "model.fit(x_train, y_train, epochs=5)\n",
    "\n",
    "model.evaluate(x_test, y_test, verbose=2)"
   ]
  },
  {
   "cell_type": "markdown",
   "id": "3d7f1d66",
   "metadata": {},
   "source": [
    "### Sequential API를 활용해서 CIFAR-100 문제 해결"
   ]
  },
  {
   "cell_type": "code",
   "execution_count": 20,
   "id": "78c0e233",
   "metadata": {},
   "outputs": [
    {
     "name": "stdout",
     "output_type": "stream",
     "text": [
      "Downloading data from https://www.cs.toronto.edu/~kriz/cifar-100-python.tar.gz\n",
      "169009152/169001437 [==============================] - 3s 0us/step\n",
      "169017344/169001437 [==============================] - 3s 0us/step\n",
      "50000 10000\n"
     ]
    }
   ],
   "source": [
    "# 라이브러리 및 데이터 구성\n",
    "\n",
    "import tensorflow as tf\n",
    "from tensorflow import keras\n",
    "\n",
    "# 데이터 구성부분\n",
    "cifar100 = keras.datasets.cifar100\n",
    "\n",
    "(x_train, y_train), (x_test, y_test) = cifar100.load_data()\n",
    "x_train, x_test = x_train / 255.0, x_test / 255.0\n",
    "print(len(x_train), len(x_test))"
   ]
  },
  {
   "cell_type": "code",
   "execution_count": 23,
   "id": "a33a1722",
   "metadata": {},
   "outputs": [],
   "source": [
    "# Sequential Model 구성\n",
    "\n",
    "model = keras.Sequential([\n",
    "    keras.layers.Conv2D(16, 3, activation='relu'),\n",
    "    keras.layers.MaxPool2D((2,2)),\n",
    "    keras.layers.Conv2D(32, 3, activation='relu'),\n",
    "    keras.layers.MaxPool2D((2,2)),\n",
    "    keras.layers.Flatten(),\n",
    "    keras.layers.Dense(256, activation='relu'),\n",
    "    keras.layers.Dense(100, activation='softmax')\n",
    "])"
   ]
  },
  {
   "cell_type": "code",
   "execution_count": 24,
   "id": "f2b68537",
   "metadata": {},
   "outputs": [
    {
     "name": "stdout",
     "output_type": "stream",
     "text": [
      "Epoch 1/5\n",
      "1563/1563 [==============================] - 5s 3ms/step - loss: 3.6482 - accuracy: 0.1536\n",
      "Epoch 2/5\n",
      "1563/1563 [==============================] - 5s 3ms/step - loss: 2.9615 - accuracy: 0.2754\n",
      "Epoch 3/5\n",
      "1563/1563 [==============================] - 5s 3ms/step - loss: 2.6756 - accuracy: 0.3279\n",
      "Epoch 4/5\n",
      "1563/1563 [==============================] - 5s 3ms/step - loss: 2.4715 - accuracy: 0.3705\n",
      "Epoch 5/5\n",
      "1563/1563 [==============================] - 5s 3ms/step - loss: 2.2991 - accuracy: 0.4068\n",
      "313/313 - 1s - loss: 2.6613 - accuracy: 0.3465\n"
     ]
    },
    {
     "data": {
      "text/plain": [
       "[2.661252498626709, 0.3465000092983246]"
      ]
     },
     "execution_count": 24,
     "metadata": {},
     "output_type": "execute_result"
    }
   ],
   "source": [
    "# 모델 학습 설정\n",
    "\n",
    "model.compile(optimizer='adam',\n",
    "             loss='sparse_categorical_crossentropy',\n",
    "             metrics=['accuracy'])\n",
    "\n",
    "model.fit(x_train, y_train, epochs=5)\n",
    "\n",
    "model.evaluate(x_test, y_test, verbose=2)"
   ]
  },
  {
   "cell_type": "markdown",
   "id": "47b78b4d",
   "metadata": {},
   "source": [
    "### Functional API 활용"
   ]
  },
  {
   "cell_type": "code",
   "execution_count": 25,
   "id": "2361f9e4",
   "metadata": {},
   "outputs": [
    {
     "name": "stdout",
     "output_type": "stream",
     "text": [
      "50000 10000\n"
     ]
    }
   ],
   "source": [
    "# 라이브러리 및 데이터 구성\n",
    "\n",
    "import tensorflow as tf\n",
    "from tensorflow import keras\n",
    "\n",
    "# 데이터 구성부분\n",
    "cifar100 = keras.datasets.cifar100\n",
    "\n",
    "(x_train, y_train), (x_test, y_test) = cifar100.load_data()\n",
    "x_train, x_test = x_train / 255.0, x_test / 255.0\n",
    "print(len(x_train), len(x_test))"
   ]
  },
  {
   "cell_type": "code",
   "execution_count": 27,
   "id": "4fb285f4",
   "metadata": {},
   "outputs": [
    {
     "name": "stdout",
     "output_type": "stream",
     "text": [
      "Epoch 1/5\n",
      "1563/1563 [==============================] - 5s 3ms/step - loss: 3.6221 - accuracy: 0.1546\n",
      "Epoch 2/5\n",
      "1563/1563 [==============================] - 5s 3ms/step - loss: 2.9468 - accuracy: 0.2761\n",
      "Epoch 3/5\n",
      "1563/1563 [==============================] - 5s 3ms/step - loss: 2.6223 - accuracy: 0.3417\n",
      "Epoch 4/5\n",
      "1563/1563 [==============================] - 5s 3ms/step - loss: 2.4018 - accuracy: 0.3870\n",
      "Epoch 5/5\n",
      "1563/1563 [==============================] - 5s 3ms/step - loss: 2.2332 - accuracy: 0.4231\n",
      "313/313 - 1s - loss: 2.5831 - accuracy: 0.3583\n"
     ]
    },
    {
     "data": {
      "text/plain": [
       "[2.58314847946167, 0.35830000042915344]"
      ]
     },
     "execution_count": 27,
     "metadata": {},
     "output_type": "execute_result"
    }
   ],
   "source": [
    "# Functional API 구성\n",
    "\n",
    "inputs = keras.Input(shape=(32, 32, 3))\n",
    "\n",
    "x = keras.layers.Conv2D(16, 3, activation='relu')(inputs)\n",
    "x = keras.layers.MaxPool2D((2,2))(x)\n",
    "x = keras.layers.Conv2D(32, 3, activation='relu')(x)\n",
    "x = keras.layers.MaxPool2D((2,2))(x)\n",
    "x = keras.layers.Flatten()(x)\n",
    "x = keras.layers.Dense(256, activation='relu')(x)\n",
    "predictions = keras.layers.Dense(100, activation='softmax')(x)\n",
    "\n",
    "model = keras.Model(inputs=inputs, outputs=predictions)\n",
    "\n",
    "# 모델 학습 설정\n",
    "\n",
    "model.compile(optimizer='adam',\n",
    "             loss='sparse_categorical_crossentropy',\n",
    "             metrics=['accuracy'])\n",
    "\n",
    "model.fit(x_train, y_train, epochs=5)\n",
    "\n",
    "model.evaluate(x_test, y_test, verbose=2)"
   ]
  },
  {
   "cell_type": "markdown",
   "id": "381b12f4",
   "metadata": {},
   "source": [
    "### Subclassing 활용"
   ]
  },
  {
   "cell_type": "code",
   "execution_count": 2,
   "id": "43b75be8",
   "metadata": {},
   "outputs": [
    {
     "name": "stdout",
     "output_type": "stream",
     "text": [
      "50000 10000\n"
     ]
    }
   ],
   "source": [
    "# 라이브러리 및 데이터 구성\n",
    "\n",
    "import tensorflow as tf\n",
    "from tensorflow import keras\n",
    "\n",
    "# 데이터 구성부분\n",
    "cifar100 = keras.datasets.cifar100\n",
    "\n",
    "(x_train, y_train), (x_test, y_test) = cifar100.load_data()\n",
    "x_train, x_test = x_train / 255.0, x_test / 255.0\n",
    "print(len(x_train), len(x_test))"
   ]
  },
  {
   "cell_type": "code",
   "execution_count": 3,
   "id": "cb803231",
   "metadata": {},
   "outputs": [
    {
     "name": "stdout",
     "output_type": "stream",
     "text": [
      "Epoch 1/5\n",
      "1563/1563 [==============================] - 30s 3ms/step - loss: 3.6243 - accuracy: 0.1532\n",
      "Epoch 2/5\n",
      "1563/1563 [==============================] - 5s 3ms/step - loss: 2.9196 - accuracy: 0.2807\n",
      "Epoch 3/5\n",
      "1563/1563 [==============================] - 5s 3ms/step - loss: 2.6252 - accuracy: 0.3418\n",
      "Epoch 4/5\n",
      "1563/1563 [==============================] - 5s 3ms/step - loss: 2.4259 - accuracy: 0.3829\n",
      "Epoch 5/5\n",
      "1563/1563 [==============================] - 5s 3ms/step - loss: 2.2572 - accuracy: 0.4178\n",
      "313/313 - 1s - loss: 2.5945 - accuracy: 0.3560\n"
     ]
    },
    {
     "data": {
      "text/plain": [
       "[2.5945024490356445, 0.35600000619888306]"
      ]
     },
     "execution_count": 3,
     "metadata": {},
     "output_type": "execute_result"
    }
   ],
   "source": [
    "# Subclassing 구현\n",
    "\n",
    "class CustomModel(keras.Model):\n",
    "    def __init__(self):\n",
    "        super().__init__()\n",
    "        self.conv1 = keras.layers.Conv2D(16, 3, activation='relu')\n",
    "        self.max1 = keras.layers.MaxPool2D((2,2))\n",
    "        self.conv2 = keras.layers.Conv2D(32, 3, activation='relu')\n",
    "        self.max2 = keras.layers.MaxPool2D((2,2))\n",
    "        self.flatten = keras.layers.Flatten()\n",
    "        self.fc1 = keras.layers.Dense(256, activation='relu')\n",
    "        self.fc2 = keras.layers.Dense(100, activation='softmax')\n",
    "    \n",
    "    def call(self, x):\n",
    "        x = self.conv1(x)\n",
    "        x = self.max1(x)\n",
    "        x = self.conv2(x)\n",
    "        x = self.max2(x)\n",
    "        x = self.flatten(x)\n",
    "        x = self.fc1(x)\n",
    "        x = self.fc2(x)\n",
    "        \n",
    "        return(x)\n",
    "\n",
    "model = CustomModel()\n",
    "\n",
    "# 모델 학습 설정\n",
    "\n",
    "model.compile(optimizer='adam',\n",
    "             loss='sparse_categorical_crossentropy',\n",
    "             metrics=['accuracy'])\n",
    "\n",
    "model.fit(x_train, y_train, epochs=5)\n",
    "\n",
    "model.evaluate(x_test, y_test, verbose=2)"
   ]
  },
  {
   "cell_type": "code",
   "execution_count": null,
   "id": "e68b1019",
   "metadata": {},
   "outputs": [],
   "source": []
  }
 ],
 "metadata": {
  "kernelspec": {
   "display_name": "Python 3 (ipykernel)",
   "language": "python",
   "name": "python3"
  },
  "language_info": {
   "codemirror_mode": {
    "name": "ipython",
    "version": 3
   },
   "file_extension": ".py",
   "mimetype": "text/x-python",
   "name": "python",
   "nbconvert_exporter": "python",
   "pygments_lexer": "ipython3",
   "version": "3.9.7"
  }
 },
 "nbformat": 4,
 "nbformat_minor": 5
}
