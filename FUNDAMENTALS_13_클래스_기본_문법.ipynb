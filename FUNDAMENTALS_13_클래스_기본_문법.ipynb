{
  "nbformat": 4,
  "nbformat_minor": 0,
  "metadata": {
    "colab": {
      "name": "FUNDAMENTALS_13 클래스 기본 문법.ipynb",
      "provenance": [],
      "authorship_tag": "ABX9TyNBKc5L9/iixDUePQwVQ/2l",
      "include_colab_link": true
    },
    "kernelspec": {
      "name": "python3",
      "display_name": "Python 3"
    },
    "language_info": {
      "name": "python"
    }
  },
  "cells": [
    {
      "cell_type": "markdown",
      "metadata": {
        "id": "view-in-github",
        "colab_type": "text"
      },
      "source": [
        "<a href=\"https://colab.research.google.com/github/JJang-likit/FUNDAMENTAL_Aiffel/blob/master/FUNDAMENTALS_13_%ED%81%B4%EB%9E%98%EC%8A%A4_%EA%B8%B0%EB%B3%B8_%EB%AC%B8%EB%B2%95.ipynb\" target=\"_parent\"><img src=\"https://colab.research.google.com/assets/colab-badge.svg\" alt=\"Open In Colab\"/></a>"
      ]
    },
    {
      "cell_type": "markdown",
      "source": [
        "# FUNDAMENTALS_13 당신의 행운의 숫자는? / 파이썬 클래스 문법"
      ],
      "metadata": {
        "id": "g5IJFX3FmGnc"
      }
    },
    {
      "cell_type": "markdown",
      "source": [
        "## 객체 지향 프로그래밍(1) 객체란?\n",
        "- 파이썬에서 모든 것은 객체(object)다.\n",
        "- 그리고 대부분의 객체는 속성(attributes)와 메서드(methods)를 갖는다.\n",
        "- 파이썬에서는 부울(bool), 정수, 실수, 문자열, 배열, 딕셔너리, 함수, 모듈, 프로그램 등 모든 것이 객체이다."
      ],
      "metadata": {
        "id": "f2ytxjt0mTry"
      }
    },
    {
      "cell_type": "markdown",
      "source": [
        "## 변수\n",
        "- 변수는 단지 이름일 뿐이다.\n",
        "- = 연산자를 이용해 값을 할당한다는 의미는 값을 복사하는 것이 아니라 데이터가 담긴 객체에 그냥 이름을 붙이는 것이다."
      ],
      "metadata": {
        "id": "JP9hydUzmqfy"
      }
    },
    {
      "cell_type": "code",
      "source": [
        "myvar = 3\n",
        "myvar"
      ],
      "metadata": {
        "colab": {
          "base_uri": "https://localhost:8080/"
        },
        "id": "d9XGC4lBmS8Y",
        "outputId": "0f573387-6d11-424b-e24e-d1b89cfa08a6"
      },
      "execution_count": 9,
      "outputs": [
        {
          "output_type": "execute_result",
          "data": {
            "text/plain": [
              "3"
            ]
          },
          "metadata": {},
          "execution_count": 9
        }
      ]
    },
    {
      "cell_type": "code",
      "source": [
        "myword = 'cat'\n",
        "myword"
      ],
      "metadata": {
        "colab": {
          "base_uri": "https://localhost:8080/",
          "height": 35
        },
        "id": "tDtkpw-TnD5R",
        "outputId": "d3301928-9d7a-4097-827d-2791b4088f39"
      },
      "execution_count": 10,
      "outputs": [
        {
          "output_type": "execute_result",
          "data": {
            "text/plain": [
              "'cat'"
            ],
            "application/vnd.google.colaboratory.intrinsic+json": {
              "type": "string"
            }
          },
          "metadata": {},
          "execution_count": 10
        }
      ]
    },
    {
      "cell_type": "markdown",
      "source": [
        "- 위의 코드들은 3과 'cat'이 담긴 객체를 생성하고 myvar과 myword라는 변수에 할당, 문자열 객체를 참조하게 한다."
      ],
      "metadata": {
        "id": "3833us6BnH-V"
      }
    },
    {
      "cell_type": "code",
      "source": [
        "var = 4\n",
        "var"
      ],
      "metadata": {
        "colab": {
          "base_uri": "https://localhost:8080/"
        },
        "id": "_IqyNcSbnG8F",
        "outputId": "ec7e427d-3ae5-4abc-f051-07e9732c1dd4"
      },
      "execution_count": 11,
      "outputs": [
        {
          "output_type": "execute_result",
          "data": {
            "text/plain": [
              "4"
            ]
          },
          "metadata": {},
          "execution_count": 11
        }
      ]
    },
    {
      "cell_type": "code",
      "source": [
        "print(id(var), id(4))"
      ],
      "metadata": {
        "colab": {
          "base_uri": "https://localhost:8080/"
        },
        "id": "dXnpe8W4ngE0",
        "outputId": "ea9b3426-f781-4194-b892-24e790e88a5a"
      },
      "execution_count": 12,
      "outputs": [
        {
          "output_type": "stream",
          "name": "stdout",
          "text": [
            "94214712892000 94214712892000\n"
          ]
        }
      ]
    },
    {
      "cell_type": "markdown",
      "source": [
        "- 변수 var과 정수 4의 id 값은 동일하다.\n",
        "- 이것을 통해 변수와 객체가 다른 것이 아님을 알 수 있다."
      ],
      "metadata": {
        "id": "wX03v4EMnoRZ"
      }
    },
    {
      "cell_type": "code",
      "source": [
        "mylist = [1,2,3,]\n",
        "var = mylist\n",
        "var"
      ],
      "metadata": {
        "colab": {
          "base_uri": "https://localhost:8080/"
        },
        "id": "Gm59bMcvoNIB",
        "outputId": "6822b2c0-6a02-41f4-dd82-08dc2657fdcd"
      },
      "execution_count": 13,
      "outputs": [
        {
          "output_type": "execute_result",
          "data": {
            "text/plain": [
              "[1, 2, 3]"
            ]
          },
          "metadata": {},
          "execution_count": 13
        }
      ]
    },
    {
      "cell_type": "code",
      "source": [
        "mylist.append(4)\n",
        "print(mylist)\n",
        "print(var)"
      ],
      "metadata": {
        "colab": {
          "base_uri": "https://localhost:8080/"
        },
        "id": "xAdINLMwochJ",
        "outputId": "6c6d3ed9-73ef-46ca-8907-16079b437746"
      },
      "execution_count": 14,
      "outputs": [
        {
          "output_type": "stream",
          "name": "stdout",
          "text": [
            "[1, 2, 3, 4]\n",
            "[1, 2, 3, 4]\n"
          ]
        }
      ]
    },
    {
      "cell_type": "code",
      "source": [
        "print(id(mylist), id(var))"
      ],
      "metadata": {
        "colab": {
          "base_uri": "https://localhost:8080/"
        },
        "id": "YMw8NqROoirC",
        "outputId": "6844e812-207e-458d-e4c0-8df0b58d18ff"
      },
      "execution_count": 15,
      "outputs": [
        {
          "output_type": "stream",
          "name": "stdout",
          "text": [
            "139993012521872 139993012521872\n"
          ]
        }
      ]
    },
    {
      "cell_type": "markdown",
      "source": [
        "- 얕은 복사는 원본 객체의 주소를 복사하는 것을 의미한다. copy.copy()\n",
        "- 깊은 복사는 원본 객체의 값을 복사하는 것을 의미한다. copy.deepcopy()"
      ],
      "metadata": {
        "id": "CFJ7lTixn_v1"
      }
    },
    {
      "cell_type": "markdown",
      "source": [
        "## 객체지향 프로그래밍(OOP:Object Oriented Programming)\n",
        "- 객체를 활용한 프로그래밍을 객체지향 프로그래밍이라고 한다.\n",
        "- 객체지향 프로그래밍은 다양한 언어에서 사용되고 있으며 파이썬 역시 객체 지향적 프로그래밍이 가능한 언어이다."
      ],
      "metadata": {
        "id": "TQbxbGiRo5PZ"
      }
    },
    {
      "cell_type": "markdown",
      "source": [
        "### 클래스 기본 문법(1) 클래스 선언 및 인스턴스화\n",
        "![image.png](data:image/png;base64,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)"
      ],
      "metadata": {
        "id": "rN53XIzYpcQg"
      }
    },
    {
      "cell_type": "markdown",
      "source": [
        "- 클래스 선언은 class 키워드를 이용한다.\n",
        "- class 키워드를 쓰고 클래스 이름을 쓴 다음 : (콜론)을 쓴다.\n",
        "- 클래스 이름 다음에 소괄호를 적어 주어도 되지만 보통은 생략한다."
      ],
      "metadata": {
        "id": "j_C-LHekpjII"
      }
    },
    {
      "cell_type": "code",
      "source": [
        "class Car:\n",
        "  pass\n",
        "\n",
        "class Car():\n",
        "  pass\n",
        "\n",
        "# id(Car)는 여러번 호출해도 같은 값이 얻어진다.\n",
        "print(id(Car))\n",
        "print(id(Car))\n",
        "\n",
        "# id(Car())는 Car()가 호출될 때마다 다른 값이 얻어진다.\n",
        "print(id(Car()))\n",
        "print(id(Car()))\n",
        "\n",
        "# 두 객체의 type은 다르다.\n",
        "print(type(Car))\n",
        "print(type(Car()))"
      ],
      "metadata": {
        "colab": {
          "base_uri": "https://localhost:8080/"
        },
        "id": "KxHfU6QMnmD2",
        "outputId": "e727178e-d7e9-45f9-8e14-2b1ab4de0f91"
      },
      "execution_count": 16,
      "outputs": [
        {
          "output_type": "stream",
          "name": "stdout",
          "text": [
            "94214731874784\n",
            "94214731874784\n",
            "139993012529872\n",
            "139993012527376\n",
            "<class 'type'>\n",
            "<class '__main__.Car'>\n"
          ]
        }
      ]
    },
    {
      "cell_type": "markdown",
      "source": [
        "- Car라는 클래스는 type 유형의 객체이다.\n",
        "- 하지만 Car()는 호출될 때마다 Car type의 객체를 생성한다."
      ],
      "metadata": {
        "id": "AmZGl9J9qRTg"
      }
    },
    {
      "cell_type": "markdown",
      "source": [
        "### 클래스의 기본 문법(1) 객체 인스턴스화\n",
        "- 클래스를 이용하려면 클래스로 객체를 만들어주어야 하는데 이를 인스턴스화라고 한다.\n",
        "- 인스턴스화를 하기 위해서는 선언한 클래스 이름에 괄호를 적어주고 생성된 인스턴스를 적당한 변수에 할당해서 사용한다."
      ],
      "metadata": {
        "id": "HK-FPsGAqe0r"
      }
    },
    {
      "cell_type": "code",
      "source": [
        "mycar = Car()\n",
        "mycar2 = Car()\n",
        "\n",
        "print(id(mycar))\n",
        "print(id(mycar2))"
      ],
      "metadata": {
        "colab": {
          "base_uri": "https://localhost:8080/"
        },
        "id": "TiozbeSLqLKp",
        "outputId": "e8ef9422-a213-4ee0-f065-0d2df06dc8c7"
      },
      "execution_count": 17,
      "outputs": [
        {
          "output_type": "stream",
          "name": "stdout",
          "text": [
            "139993012593360\n",
            "139993012592848\n"
          ]
        }
      ]
    },
    {
      "cell_type": "markdown",
      "source": [
        "- 클래스명에 괄호를 추가해 객체를 만든 후 mycar와 mycar2란 변수에 객체를 할당한다.\n",
        "- 위 코드에서 인스턴스가 생성될 때마다 객체를 할당받은 변수들에게 다른 id가 부여된다."
      ],
      "metadata": {
        "id": "52vJgv-Xq5GN"
      }
    },
    {
      "cell_type": "markdown",
      "source": [
        "#### 주의사항!\n",
        "- 인스턴스화와 함수를 표기하는 방법은 비슷해서 잘못 표기하는 경우가 생긴다.\n",
        "- 이를 위해서 PEP(Python Enhancement Proposals)라는 문서가 있다.\n",
        "- 그 중에서도 PEP8은 파이썬 코딩 스타일(변수명, 코드 표기법 등등)을 개정한 문서이다.\n",
        "- PEP8 : [링크 텍스트](https://peps.python.org/pep-0008/)"
      ],
      "metadata": {
        "id": "Ib5F2VvwrIAG"
      }
    },
    {
      "cell_type": "markdown",
      "source": [
        "##### 클래스명 표기법 : 카멜 케이스\n",
        "- 카멜 케이스 :  각 단어의 앞 글자를 대문자로 쓸 것.\n",
        "\n",
        "##### 함수명 표기법 : 스네이크 케이스\n",
        "- 스네이크 케이스 : 단어는 소문자로 쓰고 각 단어의 연결은 언더바( _ )를 사용할 것"
      ],
      "metadata": {
        "id": "t1i84hCsroM0"
      }
    },
    {
      "cell_type": "markdown",
      "source": [
        "### 클래스의 기본 문법(2) 클래스 속성과 메서드\n",
        "- 클래스의 속성은 상태(state)를 표현한다. 그리고 속성은 변수로 나타낸다.\n",
        "- 클래스의 메서드는 동작(behavior)를 표현한다. 그리고 메서드는 def 키워드로 나타낸다."
      ],
      "metadata": {
        "id": "kFWIRSUtsiqM"
      }
    },
    {
      "cell_type": "markdown",
      "source": [
        "#### 예시\n",
        "- Car 클래스에 색상은 red 종류는 sports car라는 속성을 갖고 주행과 가속이라는 동작을 갖는 클래스를 정의해본다."
      ],
      "metadata": {
        "id": "wIWh-AQjs7yo"
      }
    },
    {
      "cell_type": "code",
      "source": [
        "# 속성은 변수로 선언해야 한다.\n",
        "# 메서드는 동작을 의미하고 def 키워드를 사용해야 한다.\n",
        "\n",
        "class Car:\n",
        "  color = 'red'\n",
        "  category = 'sports car'\n",
        "\n",
        "  def drive(self):\n",
        "    print(\"I m driving\")\n",
        "\n",
        "  def accel(self, speed_up, current_speed = 10):\n",
        "    self.speed_up = speed_up\n",
        "    self.current_speed = current_speed + speed_up\n",
        "    print(\"speed up\", self.speed_up, \"driving at\", self.current_speed)"
      ],
      "metadata": {
        "id": "YEqaxaZLqx1Y"
      },
      "execution_count": 18,
      "outputs": []
    },
    {
      "cell_type": "markdown",
      "source": [
        "- 클래스의 메서드는 첫 번째 인자로 self 값을 적어 주어야 한다.\n",
        "- 주행은 drive( )라는 메서드명으로 정의하고 self 인자를 받는다.\n",
        "- 가속은 accel( )이라는 메서드명으로 정의하고 현재 속도와 가속할 값을 인자로 받는다."
      ],
      "metadata": {
        "id": "ISokoCR1trta"
      }
    },
    {
      "cell_type": "code",
      "source": [
        "mycar = Car()\n",
        "print(mycar.color)"
      ],
      "metadata": {
        "colab": {
          "base_uri": "https://localhost:8080/"
        },
        "id": "sUGWuW3ctoaE",
        "outputId": "48326f6b-8779-4465-b00d-d70dfc3e5234"
      },
      "execution_count": 19,
      "outputs": [
        {
          "output_type": "stream",
          "name": "stdout",
          "text": [
            "red\n"
          ]
        }
      ]
    },
    {
      "cell_type": "code",
      "source": [
        "mycar.drive()\n",
        "mycar.accel(5)"
      ],
      "metadata": {
        "colab": {
          "base_uri": "https://localhost:8080/"
        },
        "id": "3qFmino5uQ7p",
        "outputId": "ffe4f638-0c41-4dcc-d68a-c5f3af6ead82"
      },
      "execution_count": 20,
      "outputs": [
        {
          "output_type": "stream",
          "name": "stdout",
          "text": [
            "I m driving\n",
            "speed up 5 driving at 15\n"
          ]
        }
      ]
    },
    {
      "cell_type": "markdown",
      "source": [
        "#### 접두사 self.\n",
        "- 클래스 메서드를 정의할 때 self 인자를 사용하지 않으면 에러가 발생하게 된다.\n",
        "- 인스턴스의 속성을 사용하고 싶은 변수는 self를 사용해준다.\n",
        "- self 인자를 통해 선언된 객체의 값이란 의미이다.\n",
        "- 객체 안에서 self를 사용하면 인스턴스 객체의 고유한 속성을 나타낼 수 있다."
      ],
      "metadata": {
        "id": "diHRpZZuusD6"
      }
    },
    {
      "cell_type": "code",
      "source": [
        "class Test:\n",
        "  def run1(self):\n",
        "    print(\"run1\")\n",
        "\n",
        "  def run2():\n",
        "    print(\"run2\")\n",
        "\n",
        "t = Test()"
      ],
      "metadata": {
        "id": "EP_dmCH7uVMQ"
      },
      "execution_count": 21,
      "outputs": []
    },
    {
      "cell_type": "code",
      "source": [
        "t.run1()"
      ],
      "metadata": {
        "colab": {
          "base_uri": "https://localhost:8080/"
        },
        "id": "pau2W9wYvIkX",
        "outputId": "43d55863-0251-4b33-d8f0-c7ab51067d60"
      },
      "execution_count": 22,
      "outputs": [
        {
          "output_type": "stream",
          "name": "stdout",
          "text": [
            "run1\n"
          ]
        }
      ]
    },
    {
      "cell_type": "code",
      "source": [
        "t.run2()"
      ],
      "metadata": {
        "colab": {
          "base_uri": "https://localhost:8080/",
          "height": 174
        },
        "id": "x9QDQNMpvJxV",
        "outputId": "bec953e1-1a16-4664-cd4c-d3bba89a0b06"
      },
      "execution_count": 23,
      "outputs": [
        {
          "output_type": "error",
          "ename": "TypeError",
          "evalue": "ignored",
          "traceback": [
            "\u001b[0;31m---------------------------------------------------------------------------\u001b[0m",
            "\u001b[0;31mTypeError\u001b[0m                                 Traceback (most recent call last)",
            "\u001b[0;32m<ipython-input-23-3299b0fcd368>\u001b[0m in \u001b[0;36m<module>\u001b[0;34m()\u001b[0m\n\u001b[0;32m----> 1\u001b[0;31m \u001b[0mt\u001b[0m\u001b[0;34m.\u001b[0m\u001b[0mrun2\u001b[0m\u001b[0;34m(\u001b[0m\u001b[0;34m)\u001b[0m\u001b[0;34m\u001b[0m\u001b[0;34m\u001b[0m\u001b[0m\n\u001b[0m",
            "\u001b[0;31mTypeError\u001b[0m: run2() takes 0 positional arguments but 1 was given"
          ]
        }
      ]
    },
    {
      "cell_type": "code",
      "source": [
        "class Test2:\n",
        "  def run1(self, a):\n",
        "    self.a = float(a)*10\n",
        "    print(self.a)\n",
        "\n",
        "  def run2(self, b):\n",
        "    b = float(b)+10\n",
        "    print(self.b)\n",
        "\n",
        "t = Test2()"
      ],
      "metadata": {
        "id": "FZ7Wo-UvvKm3"
      },
      "execution_count": 24,
      "outputs": []
    },
    {
      "cell_type": "code",
      "source": [
        "t.run1(1)"
      ],
      "metadata": {
        "colab": {
          "base_uri": "https://localhost:8080/"
        },
        "id": "mPRxO1R4vZkd",
        "outputId": "eedf085d-3d40-47b3-f373-ac623c74d1e8"
      },
      "execution_count": 25,
      "outputs": [
        {
          "output_type": "stream",
          "name": "stdout",
          "text": [
            "10.0\n"
          ]
        }
      ]
    },
    {
      "cell_type": "code",
      "source": [
        "t.run2(1)"
      ],
      "metadata": {
        "colab": {
          "base_uri": "https://localhost:8080/",
          "height": 303
        },
        "id": "s5Jey8B_vbkE",
        "outputId": "6c68a9b9-0d12-4320-9e15-abec29831319"
      },
      "execution_count": 26,
      "outputs": [
        {
          "output_type": "error",
          "ename": "AttributeError",
          "evalue": "ignored",
          "traceback": [
            "\u001b[0;31m---------------------------------------------------------------------------\u001b[0m",
            "\u001b[0;31mAttributeError\u001b[0m                            Traceback (most recent call last)",
            "\u001b[0;32m<ipython-input-26-c09fe4c96ef9>\u001b[0m in \u001b[0;36m<module>\u001b[0;34m()\u001b[0m\n\u001b[0;32m----> 1\u001b[0;31m \u001b[0mt\u001b[0m\u001b[0;34m.\u001b[0m\u001b[0mrun2\u001b[0m\u001b[0;34m(\u001b[0m\u001b[0;36m1\u001b[0m\u001b[0;34m)\u001b[0m\u001b[0;34m\u001b[0m\u001b[0;34m\u001b[0m\u001b[0m\n\u001b[0m",
            "\u001b[0;32m<ipython-input-24-625e527d1b0b>\u001b[0m in \u001b[0;36mrun2\u001b[0;34m(self, b)\u001b[0m\n\u001b[1;32m      6\u001b[0m   \u001b[0;32mdef\u001b[0m \u001b[0mrun2\u001b[0m\u001b[0;34m(\u001b[0m\u001b[0mself\u001b[0m\u001b[0;34m,\u001b[0m \u001b[0mb\u001b[0m\u001b[0;34m)\u001b[0m\u001b[0;34m:\u001b[0m\u001b[0;34m\u001b[0m\u001b[0;34m\u001b[0m\u001b[0m\n\u001b[1;32m      7\u001b[0m     \u001b[0mb\u001b[0m \u001b[0;34m=\u001b[0m \u001b[0mfloat\u001b[0m\u001b[0;34m(\u001b[0m\u001b[0mb\u001b[0m\u001b[0;34m)\u001b[0m\u001b[0;34m+\u001b[0m\u001b[0;36m10\u001b[0m\u001b[0;34m\u001b[0m\u001b[0;34m\u001b[0m\u001b[0m\n\u001b[0;32m----> 8\u001b[0;31m     \u001b[0mprint\u001b[0m\u001b[0;34m(\u001b[0m\u001b[0mself\u001b[0m\u001b[0;34m.\u001b[0m\u001b[0mb\u001b[0m\u001b[0;34m)\u001b[0m\u001b[0;34m\u001b[0m\u001b[0;34m\u001b[0m\u001b[0m\n\u001b[0m\u001b[1;32m      9\u001b[0m \u001b[0;34m\u001b[0m\u001b[0m\n\u001b[1;32m     10\u001b[0m \u001b[0mt\u001b[0m \u001b[0;34m=\u001b[0m \u001b[0mTest2\u001b[0m\u001b[0;34m(\u001b[0m\u001b[0;34m)\u001b[0m\u001b[0;34m\u001b[0m\u001b[0;34m\u001b[0m\u001b[0m\n",
            "\u001b[0;31mAttributeError\u001b[0m: 'Test2' object has no attribute 'b'"
          ]
        }
      ]
    },
    {
      "cell_type": "markdown",
      "source": [
        "-  self 는 자기 자신을 의미한다.\n",
        "- 클래스에 의해 생성된 객체(인스턴스)를 가리킨다.\n",
        "- 클래스의 메서드는 인자로 해당 인스턴스(self)를 받아야 한다.\n",
        "- 메서드를 호출할 때는 self 인자를 전달하지 않는다. self의 값은 인터프리터가 제공한다.\n",
        "- 인스턴스 변수를 정의할 때에는 접두사 self.을 붙여준다."
      ],
      "metadata": {
        "id": "gFwgzAtvveyy"
      }
    },
    {
      "cell_type": "markdown",
      "source": [
        "### 클래스 기본 문법(3) 생성자 \n",
        "- 매직 메서드 : [링크 텍스트](https://rszalski.github.io/magicmethods/)\n",
        "\n"
      ],
      "metadata": {
        "id": "1c0riRNHzPse"
      }
    },
    {
      "cell_type": "code",
      "source": [
        "# __init__ 메서드 안에 인자를 전달함으로써 인스턴스 객체의 속성을 초기화할 수 있다.\n",
        "# __init__ 메서드 안에 정의된 속성(변수) color와 category는 클래스를 인스턴스화할 때 값을 설정할 수 있다.\n",
        "# 이를 인스턴스 객체의 초기화(initializing instance)라고 하고, __init__ 함수는 생성자(constructor)라고 한다.\n",
        "# __init__ 역시 def 키워드로 정의한다.\n",
        "\n",
        "class Car2:\n",
        "  def __init__(self, color, category):\n",
        "    self.color = color\n",
        "    self.category = category\n",
        "\n",
        "  def drive(self):\n",
        "    print(\"I m driving\")\n",
        "\n",
        "  def accel(self, speed_up, current_speed =10):\n",
        "    self.speed_up = speed_up\n",
        "    self.current_speed = current_speed + self.speed_up\n",
        "    print(\"speed up\", self.speed_up, \"driving at\", self.current_speed)"
      ],
      "metadata": {
        "id": "0trkh3Ilvcq9"
      },
      "execution_count": 27,
      "outputs": []
    },
    {
      "cell_type": "code",
      "source": [
        "# 인스턴스 객체 선언\n",
        "car1 = Car()\n",
        "car2 = Car2('yellow', 'sedan')"
      ],
      "metadata": {
        "id": "qqtaUZv50p4m"
      },
      "execution_count": 28,
      "outputs": []
    },
    {
      "cell_type": "code",
      "source": [
        "car1.color"
      ],
      "metadata": {
        "colab": {
          "base_uri": "https://localhost:8080/",
          "height": 35
        },
        "id": "2drz7f6c04bi",
        "outputId": "bd1d4114-08cd-441a-93b1-2bb92e42b4b0"
      },
      "execution_count": 32,
      "outputs": [
        {
          "output_type": "execute_result",
          "data": {
            "text/plain": [
              "'red'"
            ],
            "application/vnd.google.colaboratory.intrinsic+json": {
              "type": "string"
            }
          },
          "metadata": {},
          "execution_count": 32
        }
      ]
    },
    {
      "cell_type": "code",
      "source": [
        "car2.color"
      ],
      "metadata": {
        "colab": {
          "base_uri": "https://localhost:8080/",
          "height": 35
        },
        "id": "r2-xMd_E05zF",
        "outputId": "ab93f0d3-4be4-4cca-9a98-9905a720cc64"
      },
      "execution_count": 30,
      "outputs": [
        {
          "output_type": "execute_result",
          "data": {
            "text/plain": [
              "'yellow'"
            ],
            "application/vnd.google.colaboratory.intrinsic+json": {
              "type": "string"
            }
          },
          "metadata": {},
          "execution_count": 30
        }
      ]
    },
    {
      "cell_type": "code",
      "source": [
        "car2.category"
      ],
      "metadata": {
        "colab": {
          "base_uri": "https://localhost:8080/",
          "height": 35
        },
        "id": "xwyuscwd07Gl",
        "outputId": "1dfe93ab-6047-498c-8d37-5449abcdf1c0"
      },
      "execution_count": 33,
      "outputs": [
        {
          "output_type": "execute_result",
          "data": {
            "text/plain": [
              "'sedan'"
            ],
            "application/vnd.google.colaboratory.intrinsic+json": {
              "type": "string"
            }
          },
          "metadata": {},
          "execution_count": 33
        }
      ]
    },
    {
      "cell_type": "code",
      "source": [
        "# 아래처럼 키워드 인자를 지정할 수도 있다.\n",
        "\n",
        "class Car2:\n",
        "    def __init__(self, color='red', category='sprots car'):\n",
        "        self.color = color\n",
        "        self.category = category"
      ],
      "metadata": {
        "id": "jsURxV1R1AQ-"
      },
      "execution_count": 34,
      "outputs": []
    },
    {
      "cell_type": "markdown",
      "source": [
        "### 클래스 기본 문법(4) 클래스 변수와 인스턴스 변수"
      ],
      "metadata": {
        "id": "CdFfTEmZ1yJv"
      }
    },
    {
      "cell_type": "code",
      "source": [
        "# 클래스에서 변수를 선언하는 방법은 2가지가 있다.\n",
        "# 첫번째는 보통 변수와 동일하게 변수명을 쓰고 값을 할당하는 것이다.\n",
        "# 두번째는 __init__ 메서드 안에 self.와 함께 설정하는 것이다.\n",
        "\n",
        "class Car:\n",
        "  Manufacture = \"India\"\n",
        "\n",
        "  def __init__(self, color, category = 'sedan'):\n",
        "    self.color = color\n",
        "    self.category = category"
      ],
      "metadata": {
        "id": "TVRC9J-81IKc"
      },
      "execution_count": 35,
      "outputs": []
    },
    {
      "cell_type": "code",
      "source": [
        "car1 = Car('red', 'sports car')\n",
        "car2 = Car('white')\n",
        "\n",
        "print(car1.Manufacture, car1.color, car1.category)\n",
        "print(car2.Manufacture, car2.color, car2.category)"
      ],
      "metadata": {
        "colab": {
          "base_uri": "https://localhost:8080/"
        },
        "id": "LpIwoEpC2P_c",
        "outputId": "5a294dbd-63a7-4e20-c74a-fd0862f1405c"
      },
      "execution_count": 37,
      "outputs": [
        {
          "output_type": "stream",
          "name": "stdout",
          "text": [
            "India red sports car\n",
            "India white sedan\n"
          ]
        }
      ]
    },
    {
      "cell_type": "markdown",
      "source": [
        "#### 클래스 변수\n",
        "- 클래스에 바로 선언된 속성을 클래스 변수라고 하며 클래스에 의해 생성된 모든 객체에 같은 값을 조회할 수 있다.\n",
        "- 위의 코드에서 Manufacture는 클래스 변수이다.\n",
        "- Manufacture 속성은 car1과 car2가 공유한다.\n",
        "\n",
        "#### 인스턴스 변수\n",
        "- init() 안에서 self를 사용해 선언된 변수를 인스턴스 변수라고 한다.\n",
        "- 객체가 인스턴스화될 때마다 새로운 값이 할당되며 서로 다른 객체 간에는 값을 공유할 수 없다.\n",
        "- color 과 category는 인스턴스 변수이다.\n",
        "- color 와 category 속성은 car1과 car2가 공유되지 않는다.\n",
        "\n",
        "\n",
        "\n",
        "#### **즉! 객체 단위로 변경되는 변수는 인스턴스 변수로 선언해야 한다.**"
      ],
      "metadata": {
        "id": "rI9hGZLd2odA"
      }
    },
    {
      "cell_type": "markdown",
      "source": [
        "### 클래스 조금 더 알아보기 - 상속\n",
        "- 기존의 클래스와 거의 같은 클래스인데 메서드 기능 몇 개만 추가하고 싶은 경우 어떻게 해야 할까?"
      ],
      "metadata": {
        "id": "hE2XC7Uv82Zz"
      }
    },
    {
      "cell_type": "code",
      "source": [
        "class Car:\n",
        "    Manufacture = \"India\"\n",
        "\n",
        "    def __init__(self, color='red', category='sedan'):\n",
        "        self.color = color\n",
        "        self.category = category\n",
        "\n",
        "    def drive(self):\n",
        "        print(\"I'm driving\")\n",
        "\n",
        "    def accel(self, speed_up, current_speed=10):\n",
        "        self.speed_up = speed_up\n",
        "        self.current_speed = current_speed + self.speed_up\n",
        "        print(\"speed up\", self.speed_up, \"driving at\", self.current_speed)"
      ],
      "metadata": {
        "id": "R8gOBwvV2eqL"
      },
      "execution_count": 39,
      "outputs": []
    },
    {
      "cell_type": "markdown",
      "source": [
        "- 여기에 Car 클래스의 기능은 유지한체 maker 속성만 추가된 새로운 클래스 NewCar를 선언하고 싶다면 클래스의 상속 기능을 이용하면 된다."
      ],
      "metadata": {
        "id": "tCXW9s039Aud"
      }
    },
    {
      "cell_type": "code",
      "source": [
        "class NewCar(Car):\n",
        "  pass\n",
        "\n",
        "car = NewCar()\n",
        "car.drive()\n",
        "car.accel(10)"
      ],
      "metadata": {
        "colab": {
          "base_uri": "https://localhost:8080/"
        },
        "id": "EYCUlPn_9AJn",
        "outputId": "91dbaea7-1001-4764-d2a5-8443bd063766"
      },
      "execution_count": 40,
      "outputs": [
        {
          "output_type": "stream",
          "name": "stdout",
          "text": [
            "I'm driving\n",
            "speed up 10 driving at 20\n"
          ]
        }
      ]
    },
    {
      "cell_type": "code",
      "source": [
        "class NewCar(Car):\n",
        "  maker = 'Porsche'\n",
        "\n",
        "car = NewCar()\n",
        "car.maker"
      ],
      "metadata": {
        "colab": {
          "base_uri": "https://localhost:8080/",
          "height": 35
        },
        "id": "_xggXPiP9T9y",
        "outputId": "a96b973e-5be3-4c5b-92c8-ac16d259470a"
      },
      "execution_count": 41,
      "outputs": [
        {
          "output_type": "execute_result",
          "data": {
            "text/plain": [
              "'Porsche'"
            ],
            "application/vnd.google.colaboratory.intrinsic+json": {
              "type": "string"
            }
          },
          "metadata": {},
          "execution_count": 41
        }
      ]
    },
    {
      "cell_type": "markdown",
      "source": [
        "- 상속받은 클래스를 \"자식 클래스\", \"서브 클래스\", \"파생된 클래스\"라고 한다.\n",
        "- 기존 클래스를 \"부모 클래스\", \"슈퍼 클래스\", \"베이스 클래스\"라고 한다."
      ],
      "metadata": {
        "id": "-G366Sy69jT9"
      }
    },
    {
      "cell_type": "markdown",
      "source": [
        "#### 상속 사용하기\n",
        "- 클래스를 상속하기 위해 필요한 3가지 사용법이 있다.\n",
        "1. 메서드 추가하기(add)\n",
        "2. 메서드 재정의하기(override)\n",
        "3. 부모 메서드 호출하기(super())"
      ],
      "metadata": {
        "id": "k38uAKGA9u-E"
      }
    },
    {
      "cell_type": "code",
      "source": [
        "# 메서드 추가하기 - 자식 클래스에 새로운 메서드를 추가할 수 있다.\n",
        "\n",
        "class NewCar(Car):\n",
        "  def fly(self):\n",
        "    print(\"I m flying!\")"
      ],
      "metadata": {
        "id": "DQpCcou89eQ9"
      },
      "execution_count": 42,
      "outputs": []
    },
    {
      "cell_type": "code",
      "source": [
        "# 메서드 오버라이드 - 자식 클래스의 drive() 메서드에 새로운 문구가 출력되는 메서드를 정의한다.\n",
        "# 이렇게 기존에 있는 메서드를 변경하는 것을 메서드 오버라이드라고 한다.\n",
        "\n",
        "class NewCar(Car):\n",
        "    def fly(self):\n",
        "        print(\"I'm flying!! This is the new car!!\")\n",
        "\n",
        "    def drive(self):\n",
        "        print(\"I'm driving and can fly\")\n",
        "\n",
        "# fly() : 메서드 추가\n",
        "# drive() : 메서드 재정의"
      ],
      "metadata": {
        "id": "vmEYIwXO-BEh"
      },
      "execution_count": 44,
      "outputs": []
    },
    {
      "cell_type": "markdown",
      "source": [
        "#### 부모 메서드 호출하기 - super( )\n",
        "- 부모 메서드 호출은 super( )라는 함수를 이용한다."
      ],
      "metadata": {
        "id": "QIu1HBoC_aFi"
      }
    },
    {
      "cell_type": "code",
      "source": [
        "class Car:\n",
        "    Manufacture = \"India\"\n",
        "\n",
        "    def __init__(self, color='red', category='sedan'):\n",
        "        self.color = color \n",
        "        self.category = '2020Y '+ category\n",
        "\n",
        "\n",
        "class NewCar(Car):\n",
        "    def __init__(self, color, category, maker):\n",
        "        super().__init__(color, category)\n",
        "        self.maker = maker\n",
        "\n",
        "newcar = NewCar('green','sports car', 'Kia')\n",
        "print(newcar.category)"
      ],
      "metadata": {
        "colab": {
          "base_uri": "https://localhost:8080/"
        },
        "id": "XsZnkjuw-Qog",
        "outputId": "57170cd2-aa79-4095-c366-a3d42e3ad3c3"
      },
      "execution_count": 47,
      "outputs": [
        {
          "output_type": "stream",
          "name": "stdout",
          "text": [
            "2020Y sports car\n"
          ]
        }
      ]
    },
    {
      "cell_type": "code",
      "source": [
        "print(newcar.color)"
      ],
      "metadata": {
        "colab": {
          "base_uri": "https://localhost:8080/"
        },
        "id": "LZdEXGFU_jtV",
        "outputId": "c6a0b54c-a78f-4a7b-848e-022639866539"
      },
      "execution_count": 48,
      "outputs": [
        {
          "output_type": "stream",
          "name": "stdout",
          "text": [
            "green\n"
          ]
        }
      ]
    },
    {
      "cell_type": "code",
      "source": [
        ""
      ],
      "metadata": {
        "id": "PuEC8rY8_l7y"
      },
      "execution_count": null,
      "outputs": []
    }
  ]
}